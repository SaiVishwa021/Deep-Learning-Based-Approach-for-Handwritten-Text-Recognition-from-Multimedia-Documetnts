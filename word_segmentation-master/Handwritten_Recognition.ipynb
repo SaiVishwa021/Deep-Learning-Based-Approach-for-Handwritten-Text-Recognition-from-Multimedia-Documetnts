{
  "cells": [
    {
      "cell_type": "code",
      "execution_count": 21,
      "metadata": {
        "id": "UJ3uFCjv-mCa"
      },
      "outputs": [],
      "source": [
        "import numpy as np\n",
        "import cv2\n",
        "import os\n",
        "import pandas as pd\n",
        "import string\n",
        "import matplotlib.pyplot as plt\n",
        "import tensorflow as tf\n",
        "from tensorflow.keras.preprocessing.sequence import pad_sequences\n",
        "import keras.backend as K\n",
        "from tensorflow.keras.layers import Dense, LSTM, Reshape, BatchNormalization, Input, Conv2D, MaxPool2D, Lambda, Bidirectional\n",
        "from tensorflow.keras.models import Model\n",
        "from tensorflow.keras.activations import relu, sigmoid, softmax\n",
        "from tensorflow.keras.utils import to_categorical\n",
        "from tensorflow.keras.callbacks import ModelCheckpoint\n",
        "from sklearn.model_selection import train_test_split\n",
        "from sklearn.preprocessing import MinMaxScaler\n",
        "from PIL import Image"
      ]
    },
    {
      "cell_type": "code",
      "execution_count": 22,
      "metadata": {
        "id": "HTNwmxu3k8MO"
      },
      "outputs": [],
      "source": [
        "tf.compat.v1.logging.set_verbosity(tf.compat.v1.logging.ERROR)"
      ]
    },
    {
      "cell_type": "code",
      "execution_count": 23,
      "metadata": {
        "id": "fHvnN36JlFow"
      },
      "outputs": [],
      "source": [
        "images = []\n",
        "labels = []\n",
        "\n",
        "RECORDS_COUNT = 115339"
      ]
    },
    {
      "cell_type": "code",
      "execution_count": 24,
      "metadata": {
        "id": "fZiQrFaflS5j"
      },
      "outputs": [],
      "source": [
        "train_images = []\n",
        "train_labels = []\n",
        "train_input_length = []\n",
        "train_label_length = []\n",
        "train_original_text = []\n",
        "\n",
        "valid_images = []\n",
        "valid_labels = []\n",
        "valid_input_length = []\n",
        "valid_label_length = []\n",
        "valid_original_text = []\n",
        "\n",
        "inputs_length = []\n",
        "labels_length = []"
      ]
    },
    {
      "cell_type": "code",
      "execution_count": 25,
      "metadata": {
        "colab": {
          "base_uri": "https://localhost:8080/",
          "height": 206
        },
        "id": "aDi-ePW0lUrC",
        "outputId": "be68578f-efaf-42de-d087-88b84b3e5a38"
      },
      "outputs": [
        {
          "data": {
            "text/html": [
              "<div>\n",
              "<style scoped>\n",
              "    .dataframe tbody tr th:only-of-type {\n",
              "        vertical-align: middle;\n",
              "    }\n",
              "\n",
              "    .dataframe tbody tr th {\n",
              "        vertical-align: top;\n",
              "    }\n",
              "\n",
              "    .dataframe thead th {\n",
              "        text-align: right;\n",
              "    }\n",
              "</style>\n",
              "<table border=\"1\" class=\"dataframe\">\n",
              "  <thead>\n",
              "    <tr style=\"text-align: right;\">\n",
              "      <th></th>\n",
              "      <th>image</th>\n",
              "      <th>label</th>\n",
              "    </tr>\n",
              "  </thead>\n",
              "  <tbody>\n",
              "    <tr>\n",
              "      <th>0</th>\n",
              "      <td>Img/img001-001.png</td>\n",
              "      <td>0</td>\n",
              "    </tr>\n",
              "    <tr>\n",
              "      <th>1</th>\n",
              "      <td>Img/img001-002.png</td>\n",
              "      <td>0</td>\n",
              "    </tr>\n",
              "    <tr>\n",
              "      <th>2</th>\n",
              "      <td>Img/img001-003.png</td>\n",
              "      <td>0</td>\n",
              "    </tr>\n",
              "    <tr>\n",
              "      <th>3</th>\n",
              "      <td>Img/img001-004.png</td>\n",
              "      <td>0</td>\n",
              "    </tr>\n",
              "    <tr>\n",
              "      <th>4</th>\n",
              "      <td>Img/img001-005.png</td>\n",
              "      <td>0</td>\n",
              "    </tr>\n",
              "  </tbody>\n",
              "</table>\n",
              "</div>"
            ],
            "text/plain": [
              "                image label\n",
              "0  Img/img001-001.png     0\n",
              "1  Img/img001-002.png     0\n",
              "2  Img/img001-003.png     0\n",
              "3  Img/img001-004.png     0\n",
              "4  Img/img001-005.png     0"
            ]
          },
          "execution_count": 25,
          "metadata": {},
          "output_type": "execute_result"
        }
      ],
      "source": [
        "engl=pd.read_csv('D:/word_segmentation-master/Training/Img/english.csv')\n",
        "engl.head()"
      ]
    },
    {
      "cell_type": "code",
      "execution_count": 26,
      "metadata": {
        "colab": {
          "base_uri": "https://localhost:8080/",
          "height": 36
        },
        "id": "38XvjLH8lcQI",
        "outputId": "f514c8a2-fccb-4cbe-9223-53d5a2cb0f16"
      },
      "outputs": [
        {
          "data": {
            "text/plain": [
              "'r06-143-04-10 ok 186 1892 1453 36 66 ? ?'"
            ]
          },
          "execution_count": 26,
          "metadata": {},
          "output_type": "execute_result"
        }
      ],
      "source": [
        "with open('D:/word_segmentation-master/IAM/IAM/words.txt') as f:\n",
        "    contents = f.readlines()[18:115339]\n",
        "\n",
        "lines = [line.strip() for line in contents]\n",
        "lines[-1]"
      ]
    },
    {
      "cell_type": "code",
      "execution_count": 28,
      "metadata": {
        "id": "p3BxPW8cln3V"
      },
      "outputs": [],
      "source": [
        "def process_image(img):\n",
        "    \"\"\"\n",
        "    Converts image to shape (32, 128, 1) & normalize\n",
        "    \"\"\"\n",
        "    w, h = img.shape\n",
        "\n",
        "#     _, img = cv2.threshold(img,\n",
        "#                            128,\n",
        "#                            255,\n",
        "#                            cv2.THRESH_BINARY | cv2.THRESH_OTSU)\n",
        "\n",
        "    # Aspect Ratio Calculation\n",
        "    new_w = 32\n",
        "    new_h = int(h * (new_w / w))\n",
        "    img = cv2.resize(img, (new_h, new_w))\n",
        "    w, h = img.shape\n",
        "\n",
        "    img = img.astype('float32')\n",
        "\n",
        "    # Converts each to (32, 128, 1)\n",
        "    if w < 32:\n",
        "        add_zeros = np.full((32-w, h), 255)\n",
        "        img = np.concatenate((img, add_zeros))\n",
        "        w, h = img.shape\n",
        "\n",
        "    if h < 128:\n",
        "        add_zeros = np.full((w, 128-h), 255)\n",
        "        img = np.concatenate((img, add_zeros), axis=1)\n",
        "        w, h = img.shape\n",
        "\n",
        "    if h > 128 or w > 32:\n",
        "        dim = (128,32)\n",
        "        img = cv2.resize(img, dim)\n",
        "\n",
        "    img = cv2.subtract(255, img)\n",
        "\n",
        "    img = np.expand_dims(img, axis=2)\n",
        "\n",
        "    # Normalize\n",
        "    img = img / 255\n",
        "\n",
        "    return img"
      ]
    },
    {
      "cell_type": "code",
      "execution_count": 29,
      "metadata": {
        "colab": {
          "base_uri": "https://localhost:8080/"
        },
        "id": "f6-YWWEru6PT",
        "outputId": "38762394-956a-4afb-f1f3-c19c554cc9b4"
      },
      "outputs": [
        {
          "name": "stdout",
          "output_type": "stream",
          "text": [
            "!\"#&'()*+,-./0123456789:;?ABCDEFGHIJKLMNOPQRSTUVWXYZabcdefghijklmnopqrstuvwxyz 78\n"
          ]
        }
      ],
      "source": [
        "max_label_len = 0\n",
        "\n",
        "char_list = \"!\\\"#&'()*+,-./0123456789:;?ABCDEFGHIJKLMNOPQRSTUVWXYZabcdefghijklmnopqrstuvwxyz\"\n",
        "\n",
        "# string.ascii_letters + string.digits (Chars & Digits)\n",
        "# or\n",
        "# \"!\\\"#&'()*+,-./0123456789:;?ABCDEFGHIJKLMNOPQRSTUVWXYZabcdefghijklmnopqrstuvwxyz\"\n",
        "\n",
        "print(char_list, len(char_list))\n",
        "\n",
        "def encode_to_labels(txt):\n",
        "    # encoding each output word into digits\n",
        "    dig_lst = []\n",
        "    for index, chara in enumerate(txt):\n",
        "        dig_lst.append(char_list.index(chara))\n",
        "\n",
        "    return dig_lst"
      ]
    },
    {
      "cell_type": "code",
      "execution_count": 30,
      "metadata": {
        "id": "taBiBpalu5of"
      },
      "outputs": [],
      "source": [
        "for i in range(len(engl)):\n",
        "     \n",
        "        splits_id=engl[\"image\"][i].split('/')\n",
        "        filepath = 'D:/word_segmentation-master/Training/{}/{}'.format(splits_id[0], \n",
        "                                                  splits_id[1])\n",
        "       \n",
        "        # process image\n",
        "        img = cv2.imread(filepath, cv2.IMREAD_GRAYSCALE)\n",
        "        try:\n",
        "            img = process_image(img)\n",
        "        except:\n",
        "            continue\n",
        "            \n",
        "        # process label\n",
        "        try:\n",
        "            \n",
        "            word=engl['label'][i]\n",
        "            label = encode_to_labels(word)\n",
        "        except:\n",
        "            continue\n",
        "        \n",
        "        if i % 10 == 0:\n",
        "            valid_images.append(img)\n",
        "            valid_labels.append(label)\n",
        "            valid_input_length.append(31)\n",
        "            valid_label_length.append(len(word))\n",
        "            valid_original_text.append(word)\n",
        "        else:\n",
        "            train_images.append(img)\n",
        "            train_labels.append(label)\n",
        "            train_input_length.append(31)\n",
        "            train_label_length.append(len(word))\n",
        "            train_original_text.append(word)\n",
        "        \n",
        "        if len(word) > max_label_len:\n",
        "            max_label_len = len(word)\n",
        "    \n",
        "        if i >= RECORDS_COUNT:\n",
        "            break"
      ]
    },
    {
      "cell_type": "code",
      "execution_count": null,
      "metadata": {
        "colab": {
          "base_uri": "https://localhost:8080/",
          "height": 36
        },
        "id": "Gm_0JHXoJ3yE",
        "outputId": "ae77e73c-de7f-4e55-81dc-00b94211ecb7"
      },
      "outputs": [],
      "source": [
        "splits_id[0]"
      ]
    },
    {
      "cell_type": "code",
      "execution_count": null,
      "metadata": {
        "colab": {
          "base_uri": "https://localhost:8080/",
          "height": 36
        },
        "id": "oIA-vpmfJ6Ii",
        "outputId": "7a880204-d67b-4434-f348-8994085a5d7e"
      },
      "outputs": [],
      "source": [
        "splits_id[1]"
      ]
    },
    {
      "cell_type": "code",
      "execution_count": null,
      "metadata": {
        "colab": {
          "base_uri": "https://localhost:8080/"
        },
        "id": "0AA9J7zQKFKB",
        "outputId": "c5411d30-a93f-49d5-df3a-ff30970b4834"
      },
      "outputs": [],
      "source": [
        "lines"
      ]
    },
    {
      "cell_type": "code",
      "execution_count": null,
      "metadata": {
        "id": "wwUONKAvKKRW"
      },
      "outputs": [],
      "source": [
        "splits = lines[0].split(' ')"
      ]
    },
    {
      "cell_type": "code",
      "execution_count": null,
      "metadata": {
        "colab": {
          "base_uri": "https://localhost:8080/"
        },
        "id": "wS-ALCgsKPPs",
        "outputId": "6331324f-25d5-44e5-d511-1ada5d8cf53a"
      },
      "outputs": [],
      "source": [
        "splits"
      ]
    },
    {
      "cell_type": "code",
      "execution_count": null,
      "metadata": {
        "colab": {
          "base_uri": "https://localhost:8080/",
          "height": 36
        },
        "id": "TrkKKPs8Kyyc",
        "outputId": "3751932c-7d79-47f6-911d-7f60643fa3c9"
      },
      "outputs": [],
      "source": [
        "splits[1]"
      ]
    },
    {
      "cell_type": "code",
      "execution_count": null,
      "metadata": {
        "id": "JdgX5FJHu-bV"
      },
      "outputs": [],
      "source": [
        "for index, line in enumerate(lines):\n",
        "    splits = line.split(' ')\n",
        "    status = splits[1]\n",
        "\n",
        "    if status == 'ok':\n",
        "        word_id = splits[0]\n",
        "        word = \"\".join(splits[8:])\n",
        "\n",
        "        splits_id = word_id.split('-')\n",
        "        filepath = 'D:/word_segmentation-master/IAM/words/{}/{}-{}/{}.png'.format(splits_id[0],\n",
        "                                                  splits_id[0],\n",
        "                                                  splits_id[1],\n",
        "                                                  word_id)\n",
        "\n",
        "        # process image\n",
        "        img = cv2.imread(filepath, cv2.IMREAD_GRAYSCALE)\n",
        "        try:\n",
        "            img = process_image(img)\n",
        "        except:\n",
        "            continue\n",
        "\n",
        "        # process label\n",
        "        try:\n",
        "            label = encode_to_labels(word)\n",
        "        except:\n",
        "            continue\n",
        "\n",
        "        if index % 10 == 0:\n",
        "            valid_images.append(img)\n",
        "            valid_labels.append(label)\n",
        "            valid_input_length.append(31)\n",
        "            valid_label_length.append(len(word))\n",
        "            valid_original_text.append(word)\n",
        "        else:\n",
        "            train_images.append(img)\n",
        "            train_labels.append(label)\n",
        "            train_input_length.append(31)\n",
        "            train_label_length.append(len(word))\n",
        "            train_original_text.append(word)\n",
        "\n",
        "        if len(word) > max_label_len:\n",
        "            max_label_len = len(word)\n",
        "\n",
        "    if index >= RECORDS_COUNT:\n",
        "        break"
      ]
    },
    {
      "cell_type": "code",
      "execution_count": null,
      "metadata": {
        "id": "_DZQOud8vEbA"
      },
      "outputs": [],
      "source": [
        "\n",
        "train_padded_label = pad_sequences(train_labels,\n",
        "                             maxlen=max_label_len,\n",
        "                             padding='post',\n",
        "                             value=len(char_list))\n",
        "\n",
        "valid_padded_label = pad_sequences(valid_labels,\n",
        "                             maxlen=max_label_len,\n",
        "                             padding='post',\n",
        "                             value=len(char_list))"
      ]
    },
    {
      "cell_type": "code",
      "execution_count": null,
      "metadata": {
        "colab": {
          "base_uri": "https://localhost:8080/",
          "height": 175
        },
        "id": "fMF9IWm0vHGI",
        "outputId": "f96bd737-43f9-4476-8b34-890e27b63e0b"
      },
      "outputs": [],
      "source": [
        "train_labels[3101]"
      ]
    },
    {
      "cell_type": "code",
      "execution_count": null,
      "metadata": {
        "id": "N6ifHdZLvHt9"
      },
      "outputs": [],
      "source": [
        "train_padded_label[3101]"
      ]
    },
    {
      "cell_type": "code",
      "execution_count": null,
      "metadata": {
        "colab": {
          "base_uri": "https://localhost:8080/"
        },
        "id": "G_tMIXOmvJsO",
        "outputId": "ea9585e9-1c0e-48d9-ef15-eac96ce5f0bd"
      },
      "outputs": [],
      "source": [
        "train_padded_label.shape, valid_padded_label.shape"
      ]
    },
    {
      "cell_type": "code",
      "execution_count": null,
      "metadata": {
        "id": "w8WyirEgvLb5"
      },
      "outputs": [],
      "source": [
        "train_images = np.asarray(train_images)\n",
        "train_input_length = np.asarray(train_input_length)\n",
        "train_label_length = np.asarray(train_label_length)\n",
        "\n",
        "valid_images = np.asarray(valid_images)\n",
        "valid_input_length = np.asarray(valid_input_length)\n",
        "valid_label_length = np.asarray(valid_label_length)"
      ]
    },
    {
      "cell_type": "code",
      "execution_count": null,
      "metadata": {
        "colab": {
          "base_uri": "https://localhost:8080/",
          "height": 35
        },
        "id": "HJSqkzkBvNLX",
        "outputId": "89d7b34d-73f9-4f2f-c43b-36c7766dc56f"
      },
      "outputs": [],
      "source": [
        "from tensorflow.keras import layers\n",
        "from tensorflow.keras import Model\n",
        "from tensorflow.keras import backend as tf_keras_backend\n",
        "from keras.models import Sequential\n",
        "from keras.layers import Dense, Conv2D, MaxPool2D , Flatten\n",
        "\n",
        "tf_keras_backend.set_image_data_format('channels_last')\n",
        "tf_keras_backend.image_data_format()"
      ]
    },
    {
      "cell_type": "code",
      "execution_count": null,
      "metadata": {
        "id": "UfVbttpzvPaT"
      },
      "outputs": [],
      "source": [
        "def Model1():\n",
        "    # input with shape of height=32 and width=128 \n",
        "    inputs = Input(shape=(32,128,1))\n",
        "\n",
        "    # convolution layer with kernel size (3,3)\n",
        "    conv_1 = Conv2D(64, (3,3), activation = 'relu', padding='same')(inputs)\n",
        "    # poolig layer with kernel size (2,2)\n",
        "    pool_1 = MaxPool2D(pool_size=(2, 2), strides=2)(conv_1)\n",
        "\n",
        "    conv_2 = Conv2D(128, (3,3), activation = 'relu', padding='same')(pool_1)\n",
        "    pool_2 = MaxPool2D(pool_size=(2, 2), strides=2)(conv_2)\n",
        "\n",
        "    conv_3 = Conv2D(256, (3,3), activation = 'relu', padding='same')(pool_2)\n",
        "\n",
        "    conv_4 = Conv2D(256, (3,3), activation = 'relu', padding='same')(conv_3)\n",
        "    # poolig layer with kernel size (2,1)\n",
        "    pool_4 = MaxPool2D(pool_size=(2, 1))(conv_4)\n",
        "\n",
        "    conv_5 = Conv2D(512, (3,3), activation = 'relu', padding='same')(pool_4)\n",
        "    # Batch normalization layer\n",
        "    batch_norm_5 = BatchNormalization()(conv_5)\n",
        "\n",
        "    conv_6 = Conv2D(512, (3,3), activation = 'relu', padding='same')(batch_norm_5)\n",
        "    batch_norm_6 = BatchNormalization()(conv_6)\n",
        "    pool_6 = MaxPool2D(pool_size=(2, 1))(batch_norm_6)\n",
        "\n",
        "    conv_7 = Conv2D(512, (2,2), activation = 'relu')(pool_6)\n",
        "\n",
        "    squeezed = Lambda(lambda x: K.squeeze(x, 1))(conv_7)\n",
        "\n",
        "    # bidirectional LSTM layers with units=128\n",
        "    blstm_1 = Bidirectional(LSTM(256, return_sequences=True, dropout = 0.2))(squeezed)\n",
        "    blstm_2 = Bidirectional(LSTM(256, return_sequences=True, dropout = 0.2))(blstm_1)\n",
        "\n",
        "    outputs = Dense(len(char_list)+1, activation = 'softmax')(blstm_2)\n",
        "\n",
        "    # model to be used at test time\n",
        "    act_model = Model(inputs, outputs)\n",
        "    \n",
        "    return act_model,outputs,inputs"
      ]
    },
    {
      "cell_type": "code",
      "execution_count": null,
      "metadata": {},
      "outputs": [],
      "source": [
        "import keras.backend as K"
      ]
    },
    {
      "cell_type": "code",
      "execution_count": null,
      "metadata": {
        "colab": {
          "base_uri": "https://localhost:8080/",
          "height": 442
        },
        "id": "e-JAo4hivVch",
        "outputId": "10d1b108-444b-42e6-e8be-94de0859de87"
      },
      "outputs": [],
      "source": [
        "act_model,outputs,inputs=Model1()"
      ]
    },
    {
      "cell_type": "code",
      "execution_count": null,
      "metadata": {
        "id": "X-W6rwVkvYrd"
      },
      "outputs": [],
      "source": [
        "act_model.summary()"
      ]
    },
    {
      "cell_type": "code",
      "execution_count": null,
      "metadata": {},
      "outputs": [],
      "source": [
        "import os\n",
        "import cv2\n",
        "import numpy as np\n",
        "\n",
        "# Define the directory where your test images are stored\n",
        "test_data_dir = r'D:\\word_segmentation-master\\IAM\\IAM\\words\\a01\\a01-000u'\n",
        "\n",
        "def load_test_data():\n",
        "    test_images = []\n",
        "    test_labels = []\n",
        "    \n",
        "    image_files = os.listdir(test_data_dir)\n",
        "    \n",
        "    for image_file in image_files:\n",
        "        image_path = os.path.join(test_data_dir, image_file)\n",
        "        \n",
        "        # Assume the parent directory name (a01) is the class label\n",
        "        class_label = os.path.basename(os.path.dirname(image_path))\n",
        "        \n",
        "        try:\n",
        "            image = cv2.imread(image_path, cv2.IMREAD_GRAYSCALE)  # Load image in grayscale\n",
        "            if image is not None:\n",
        "                image = cv2.resize(image, (128, 32))  # Resize image to match your model's input shape\n",
        "                test_images.append(image)\n",
        "                test_labels.append(class_label)\n",
        "            else:\n",
        "                print(f\"Failed to load image: {image_path}\")\n",
        "        except Exception as e:\n",
        "            print(f\"Error processing image: {image_path}, {str(e)}\")\n",
        "    \n",
        "    # Convert the lists to numpy arrays\n",
        "    test_images = np.array(test_images, dtype=np.float32) / 255.0  # Normalize pixel values\n",
        "    test_labels = np.array(test_labels)\n",
        "    \n",
        "    return test_images, test_labels\n",
        "\n",
        "# Load test data and labels\n",
        "X_test, y_true = load_test_data()\n",
        "\n",
        "# Now you can proceed to make predictions using your model and compute the confusion matrix as previously shown.\n"
      ]
    },
    {
      "cell_type": "code",
      "execution_count": null,
      "metadata": {},
      "outputs": [],
      "source": [
        "from sklearn.metrics import confusion_matrix, classification_report\n",
        "import numpy as np\n",
        "\n",
        "# Assuming you have already trained and compiled your model\n",
        "# Load your test data\n",
        "X_test, y_true = load_test_data()  # Replace with your actual data loading code\n",
        "\n",
        "# Make predictions using your model\n",
        "y_pred = act_model.predict(X_test)\n",
        "\n",
        "# Convert the one-hot encoded predictions and true labels back to class indices\n",
        "y_pred_classes = np.argmax(y_pred, axis=1)\n",
        "y_true_classes = np.argmax(y_true, axis=1)\n",
        "\n",
        "# Compute the confusion matrix\n",
        "confusion_mtx = confusion_matrix(y_true_classes, y_pred_classes)\n",
        "\n",
        "# Print the confusion matrix\n",
        "print(confusion_mtx)\n"
      ]
    },
    {
      "cell_type": "code",
      "execution_count": null,
      "metadata": {
        "id": "bs1UGknUvchx"
      },
      "outputs": [],
      "source": [
        "the_labels = Input(name='the_labels', shape=[max_label_len], dtype='float32')\n",
        "input_length = Input(name='input_length', shape=[1], dtype='int64')\n",
        "label_length = Input(name='label_length', shape=[1], dtype='int64')\n",
        "\n",
        "def ctc_lambda_func(args):\n",
        "    y_pred, labels, input_length, label_length = args\n",
        "\n",
        "    return K.ctc_batch_cost(labels, y_pred, input_length, label_length)\n",
        "\n",
        "loss_out = Lambda(ctc_lambda_func, output_shape=(1,), name='ctc')([outputs, the_labels, input_length, label_length])\n",
        "\n",
        "#model to be used at training time\n",
        "model = Model(inputs=[inputs, the_labels, input_length, label_length], outputs=loss_out)"
      ]
    },
    {
      "cell_type": "code",
      "execution_count": null,
      "metadata": {
        "id": "prKfWXs9vf7X"
      },
      "outputs": [],
      "source": [
        "batch_size = 32\n",
        "epochs = 50\n",
        "e = str(epochs)\n",
        "optimizer_name = 'sgd'"
      ]
    },
    {
      "cell_type": "code",
      "execution_count": null,
      "metadata": {
        "id": "sOkxOFqNvvwm"
      },
      "outputs": [],
      "source": [
        "model.compile(loss={'ctc': lambda y_true, y_pred: y_pred}, optimizer = optimizer_name, metrics=['accuracy'])\n",
        "\n",
        "filepath=\"{}o-{}r-{}e-{}t-{}v.hdf5\".format(optimizer_name,\n",
        "                                          str(RECORDS_COUNT),\n",
        "                                          str(epochs),\n",
        "                                          str(train_images.shape[0]),\n",
        "                                          str(valid_images.shape[0]))\n",
        "\n",
        "checkpoint = ModelCheckpoint(filepath=filepath, monitor='val_accuracy', verbose=1, save_best_only=True, mode='auto')\n",
        "callbacks_list = [checkpoint]\n"
      ]
    },
    {
      "cell_type": "code",
      "execution_count": null,
      "metadata": {
        "id": "qD4khh0gvxvk"
      },
      "outputs": [],
      "source": [
        "history = model.fit(x=[train_images, train_padded_label, train_input_length, train_label_length],\n",
        "                    y=np.zeros(len(train_images)),\n",
        "                    batch_size=batch_size,\n",
        "                    epochs=epochs,\n",
        "                    validation_data=([valid_images, valid_padded_label, valid_input_length, valid_label_length], [np.zeros(len(valid_images))]),\n",
        "                    verbose=1,\n",
        "                    callbacks=callbacks_list)\n"
      ]
    },
    {
      "cell_type": "code",
      "execution_count": null,
      "metadata": {
        "id": "vYY5KkPdvzaj"
      },
      "outputs": [],
      "source": [
        "model.save(filepath='./model3.h5', overwrite=False, include_optimizer=True)"
      ]
    },
    {
      "cell_type": "code",
      "execution_count": null,
      "metadata": {
        "id": "kLkLXr8Gv2rs"
      },
      "outputs": [],
      "source": [
        "import Levenshtein as lv\n",
        "filepath='D:/word_segmentation-master/sgdo-115339r-50e-89887t-9977v.hdf5'\n",
        "# load the saved best model weights\n",
        "act_model.load_weights(filepath)\n",
        "\n",
        "# predict outputs on validation images\n",
        "prediction = act_model.predict(valid_images)\n",
        "\n",
        "# use CTC decoder\n",
        "decoded = K.ctc_decode(prediction,\n",
        "                       input_length=np.ones(prediction.shape[0]) * prediction.shape[1],\n",
        "                       greedy=True)[0][0]\n",
        "out = K.get_value(decoded)\n",
        "\n",
        "\n",
        "\n",
        "total_jaro = 0\n",
        "\n",
        "# see the results\n",
        "for i, x in enumerate(out):\n",
        "    letters=''\n",
        "    for p in x:\n",
        "        if int(p) != -1:\n",
        "            letters+=char_list[int(p)]\n",
        "    total_jaro+=lv.jaro(letters, valid_original_text[i])\n",
        "\n",
        "print('jaro :', total_jaro/len(out))\n"
      ]
    },
    {
      "cell_type": "code",
      "execution_count": null,
      "metadata": {
        "id": "cClLmqvXv4Xm"
      },
      "outputs": [],
      "source": [
        "# predict outputs on validation images\n",
        "i=2000\n",
        "j=2005\n",
        "prediction = act_model.predict(valid_images[i:j])\n",
        "\n",
        "# use CTC decoder\n",
        "decoded = K.ctc_decode(prediction,\n",
        "                       input_length=np.ones(prediction.shape[0]) * prediction.shape[1],\n",
        "                       greedy=True)[0][0]\n",
        "\n",
        "out = K.get_value(decoded)\n",
        "\n",
        "# see the results\n",
        "for _, x in enumerate(out):\n",
        "\n",
        "    print(\"original_text =  \", valid_original_text[i])\n",
        "    print(\"predicted text = \", end = '')\n",
        "    for p in x:\n",
        "        if int(p) != -1:\n",
        "            print(char_list[int(p)], end = '')\n",
        "    plt.imshow(valid_images[i].reshape(32,128), cmap=plt.cm.gray)\n",
        "    plt.show()\n",
        "    i+=1\n",
        "    print('\\n')"
      ]
    },
    {
      "cell_type": "code",
      "execution_count": null,
      "metadata": {
        "id": "4kO10guRv6Ua"
      },
      "outputs": [],
      "source": [
        "#plot accuracy and loss\n",
        "def plotgraph(epochs, acc, val_acc):\n",
        "    # Plot training & validation accuracy values\n",
        "    plt.plot(epochs, acc, 'b')\n",
        "    plt.plot(epochs, val_acc, 'r')\n",
        "    plt.xlabel('Epoch')\n",
        "    plt.legend(['Train', 'Val'], loc='upper left')\n",
        "    plt.show()"
      ]
    },
    {
      "cell_type": "code",
      "execution_count": null,
      "metadata": {
        "id": "jUWlmFn4v8vI"
      },
      "outputs": [],
      "source": [
        "\n",
        "acc = history.history['accuracy']\n",
        "val_acc = history.history['val_accuracy']\n",
        "loss = history.history['loss']\n",
        "val_loss = history.history['val_loss']\n",
        "epochs = range(1,len(loss)+1)\n"
      ]
    },
    {
      "cell_type": "code",
      "execution_count": null,
      "metadata": {},
      "outputs": [],
      "source": [
        "import cv2\n",
        "import numpy as np\n",
        "# Load your image from file\n",
        "for i in range(4):\n",
        " your_image_path = \"D:\\word_segmentation-master\\segmented\\segment\"+ str(i) + \".png\"\n",
        " your_image = cv2.imread(your_image_path, cv2.IMREAD_GRAYSCALE)\n",
        "\n",
        "# Process the image using the process_image function\n",
        " processed_image = process_image(your_image)\n",
        "\n",
        "# Expand dimensions to match the model's input shape\n",
        " processed_image = np.expand_dims(processed_image, axis=0)\n",
        "\n",
        "# Make predictions on your processed image\n",
        " prediction = act_model.predict(processed_image)\n",
        "\n",
        "# Use CTC decoder\n",
        " decoded = K.ctc_decode(prediction,\n",
        "                       input_length=np.ones(prediction.shape[0]) * prediction.shape[1],\n",
        "                       greedy=True)[0][0]\n",
        "\n",
        " out = K.get_value(decoded)\n",
        "\n",
        "# Display the results\n",
        " for _, x in enumerate(out):\n",
        "    print(\"predicted text = \", end='')\n",
        "    for p in x:\n",
        "        if int(p) != -1:\n",
        "            print(char_list[int(p)], end='')\n",
        "    \n",
        "    # Display your processed image\n",
        "    plt.imshow(your_image, cmap=plt.cm.gray)\n",
        "    plt.show()\n",
        "\n",
        "      \n"
      ]
    },
    {
      "cell_type": "code",
      "execution_count": null,
      "metadata": {},
      "outputs": [],
      "source": [
        "import cv2\n",
        "import numpy as np\n",
        "# Load your image from file\n",
        "for i in range(4):\n",
        " your_image_path = \"D:\\word_segmentation-master\\segmented\\segment\"+ str(i) + \".png\"\n",
        " your_image = cv2.imread(your_image_path, cv2.IMREAD_GRAYSCALE)\n",
        "\n",
        "# Process the image using the process_image function\n",
        " processed_image = process_image(your_image)\n",
        "\n",
        "# Expand dimensions to match the model's input shape\n",
        " processed_image = np.expand_dims(processed_image, axis=0)\n",
        "\n",
        "# Make predictions on your processed image\n",
        " prediction = act_model.predict(processed_image)\n",
        "\n",
        "# Use CTC decoder\n",
        " decoded = K.ctc_decode(prediction,\n",
        "                       input_length=np.ones(prediction.shape[0]) * prediction.shape[1],\n",
        "                       greedy=True)[0][0]\n",
        "\n",
        " out = K.get_value(decoded)\n",
        "\n",
        "# Display the results\n",
        " for _, x in enumerate(out):\n",
        "    print(\"predicted text = \", end='')\n",
        "    for p in x:\n",
        "        if int(p) != -1:\n",
        "            print(char_list[int(p)], end='')\n",
        "    \n",
        "    # Display your processed image\n",
        "    plt.imshow(your_image, cmap=plt.cm.gray)\n",
        "    plt.show()\n",
        "\n",
        "      \n"
      ]
    },
    {
      "cell_type": "code",
      "execution_count": null,
      "metadata": {},
      "outputs": [],
      "source": [
        "import cv2\n",
        "import numpy as np\n",
        "# Load your image from file\n",
        "for i in range(4):\n",
        " your_image_path = \"D:\\word_segmentation-master\\segmented\\segment\"+ str(i) + \".png\"\n",
        " your_image = cv2.imread(your_image_path, cv2.IMREAD_GRAYSCALE)\n",
        "\n",
        "# Process the image using the process_image function\n",
        " processed_image = process_image(your_image)\n",
        "\n",
        "# Expand dimensions to match the model's input shape\n",
        " processed_image = np.expand_dims(processed_image, axis=0)\n",
        "\n",
        "# Make predictions on your processed image\n",
        " prediction = act_model.predict(processed_image)\n",
        "\n",
        "# Use CTC decoder\n",
        " decoded = K.ctc_decode(prediction,\n",
        "                       input_length=np.ones(prediction.shape[0]) * prediction.shape[1],\n",
        "                       greedy=True)[0][0]\n",
        "\n",
        " out = K.get_value(decoded)\n",
        "\n",
        "# Display the results\n",
        " for _, x in enumerate(out):\n",
        "    print(\"predicted text = \", end='')\n",
        "    for p in x:\n",
        "        if int(p) != -1:\n",
        "            print(char_list[int(p)], end='')\n",
        "    \n",
        "    # Display your processed image\n",
        "    plt.imshow(your_image, cmap=plt.cm.gray)\n",
        "    plt.show()\n",
        "\n",
        "      \n"
      ]
    },
    {
      "cell_type": "code",
      "execution_count": null,
      "metadata": {
        "id": "lf9JNEDIwAfk"
      },
      "outputs": [],
      "source": [
        "plotgraph(epochs, loss, val_loss)"
      ]
    },
    {
      "cell_type": "code",
      "execution_count": null,
      "metadata": {
        "id": "PLD1_Z2dwBJv"
      },
      "outputs": [],
      "source": [
        "plotgraph(epochs, acc, val_acc)"
      ]
    },
    {
      "cell_type": "code",
      "execution_count": null,
      "metadata": {
        "id": "rOQiX8hSwD6G"
      },
      "outputs": [],
      "source": [
        "# get best model index\n",
        "minimum_val_loss = np.min(history.history['val_loss'])\n",
        "best_model_index = np.where(history.history['val_loss'] == minimum_val_loss)[0][0]\n",
        "\n",
        "best_loss = str(history.history['loss'][best_model_index])\n",
        "best_acc = str(history.history['accuracy'][best_model_index])\n",
        "best_val_loss = str(history.history['val_loss'][best_model_index])\n",
        "best_val_acc = str(history.history['val_accuracy'][best_model_index])"
      ]
    },
    {
      "cell_type": "code",
      "execution_count": null,
      "metadata": {
        "id": "VT6Bpza2wFhq"
      },
      "outputs": [],
      "source": [
        "print(best_loss)\n",
        "print(best_acc)\n",
        "print(best_val_acc)"
      ]
    }
  ],
  "metadata": {
    "accelerator": "TPU",
    "colab": {
      "provenance": []
    },
    "kernelspec": {
      "display_name": "Python 3",
      "name": "python3"
    },
    "language_info": {
      "codemirror_mode": {
        "name": "ipython",
        "version": 3
      },
      "file_extension": ".py",
      "mimetype": "text/x-python",
      "name": "python",
      "nbconvert_exporter": "python",
      "pygments_lexer": "ipython3",
      "version": "3.10.7"
    }
  },
  "nbformat": 4,
  "nbformat_minor": 0
}
